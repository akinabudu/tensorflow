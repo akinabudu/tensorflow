{
 "cells": [
  {
   "cell_type": "code",
   "execution_count": 1,
   "id": "expressed-salem",
   "metadata": {},
   "outputs": [
    {
     "name": "stderr",
     "output_type": "stream",
     "text": [
      "2022-10-06 18:58:43.423062: W tensorflow/stream_executor/platform/default/dso_loader.cc:64] Could not load dynamic library 'libcudart.so.11.0'; dlerror: libcudart.so.11.0: cannot open shared object file: No such file or directory\n",
      "2022-10-06 18:58:43.423091: I tensorflow/stream_executor/cuda/cudart_stub.cc:29] Ignore above cudart dlerror if you do not have a GPU set up on your machine.\n"
     ]
    }
   ],
   "source": [
    "import tensorflow as tf\n",
    "import pandas as pd\n",
    "import matplotlib.pyplot as plt\n",
    "%matplotlib inline"
   ]
  },
  {
   "cell_type": "code",
   "execution_count": 2,
   "id": "cooked-stock",
   "metadata": {},
   "outputs": [
    {
     "data": {
      "text/html": [
       "<div>\n",
       "<style scoped>\n",
       "    .dataframe tbody tr th:only-of-type {\n",
       "        vertical-align: middle;\n",
       "    }\n",
       "\n",
       "    .dataframe tbody tr th {\n",
       "        vertical-align: top;\n",
       "    }\n",
       "\n",
       "    .dataframe thead th {\n",
       "        text-align: right;\n",
       "    }\n",
       "</style>\n",
       "<table border=\"1\" class=\"dataframe\">\n",
       "  <thead>\n",
       "    <tr style=\"text-align: right;\">\n",
       "      <th></th>\n",
       "      <th>Time</th>\n",
       "      <th>Open</th>\n",
       "      <th>High</th>\n",
       "      <th>Low</th>\n",
       "      <th>Close</th>\n",
       "      <th>Volume</th>\n",
       "    </tr>\n",
       "  </thead>\n",
       "  <tbody>\n",
       "    <tr>\n",
       "      <th>0</th>\n",
       "      <td>2007-01-01 00:00:00</td>\n",
       "      <td>1.31908</td>\n",
       "      <td>1.31973</td>\n",
       "      <td>1.31872</td>\n",
       "      <td>1.31940</td>\n",
       "      <td>190569</td>\n",
       "    </tr>\n",
       "    <tr>\n",
       "      <th>1</th>\n",
       "      <td>2007-01-01 04:00:00</td>\n",
       "      <td>1.31937</td>\n",
       "      <td>1.31985</td>\n",
       "      <td>1.31887</td>\n",
       "      <td>1.31905</td>\n",
       "      <td>185785</td>\n",
       "    </tr>\n",
       "    <tr>\n",
       "      <th>2</th>\n",
       "      <td>2007-01-01 08:00:00</td>\n",
       "      <td>1.31916</td>\n",
       "      <td>1.31933</td>\n",
       "      <td>1.31650</td>\n",
       "      <td>1.31682</td>\n",
       "      <td>172124</td>\n",
       "    </tr>\n",
       "    <tr>\n",
       "      <th>3</th>\n",
       "      <td>2007-01-01 12:00:00</td>\n",
       "      <td>1.31697</td>\n",
       "      <td>1.31943</td>\n",
       "      <td>1.31657</td>\n",
       "      <td>1.31931</td>\n",
       "      <td>179973</td>\n",
       "    </tr>\n",
       "    <tr>\n",
       "      <th>4</th>\n",
       "      <td>2007-01-01 16:00:00</td>\n",
       "      <td>1.31916</td>\n",
       "      <td>1.32095</td>\n",
       "      <td>1.31837</td>\n",
       "      <td>1.31940</td>\n",
       "      <td>1025178</td>\n",
       "    </tr>\n",
       "  </tbody>\n",
       "</table>\n",
       "</div>"
      ],
      "text/plain": [
       "                  Time     Open     High      Low    Close   Volume\n",
       "0  2007-01-01 00:00:00  1.31908  1.31973  1.31872  1.31940   190569\n",
       "1  2007-01-01 04:00:00  1.31937  1.31985  1.31887  1.31905   185785\n",
       "2  2007-01-01 08:00:00  1.31916  1.31933  1.31650  1.31682   172124\n",
       "3  2007-01-01 12:00:00  1.31697  1.31943  1.31657  1.31931   179973\n",
       "4  2007-01-01 16:00:00  1.31916  1.32095  1.31837  1.31940  1025178"
      ]
     },
     "execution_count": 2,
     "metadata": {},
     "output_type": "execute_result"
    }
   ],
   "source": [
    "mySymbol= \"EURUSD_H4.csv\"\n",
    "myDir=\"./myDataset/{}\".format(mySymbol)\n",
    "df = pd.read_csv(myDir, sep=\"\\t\")\n",
    "df.head()\n",
    "# df['Time']=pd.to_datetime(df['Time'])"
   ]
  },
  {
   "cell_type": "code",
   "execution_count": 3,
   "id": "talented-variance",
   "metadata": {},
   "outputs": [
    {
     "name": "stderr",
     "output_type": "stream",
     "text": [
      "2022-10-06 18:58:45.496030: W tensorflow/stream_executor/platform/default/dso_loader.cc:64] Could not load dynamic library 'libcuda.so.1'; dlerror: libcuda.so.1: cannot open shared object file: No such file or directory\n",
      "2022-10-06 18:58:45.496070: W tensorflow/stream_executor/cuda/cuda_driver.cc:269] failed call to cuInit: UNKNOWN ERROR (303)\n",
      "2022-10-06 18:58:45.496094: I tensorflow/stream_executor/cuda/cuda_diagnostics.cc:156] kernel driver does not appear to be running on this host (judgementday): /proc/driver/nvidia/version does not exist\n",
      "2022-10-06 18:58:45.496333: I tensorflow/core/platform/cpu_feature_guard.cc:151] This TensorFlow binary is optimized with oneAPI Deep Neural Network Library (oneDNN) to use the following CPU instructions in performance-critical operations:  AVX2 FMA\n",
      "To enable them in other operations, rebuild TensorFlow with the appropriate compiler flags.\n"
     ]
    }
   ],
   "source": [
    "X=tf.convert_to_tensor(df[[ 'Open', 'High', 'Low']])\n",
    "y=tf.constant(df['Close'])\n",
    "X_train=X[:3000]\n",
    "y_train=y[:3000]\n",
    "X_test=X[3000:3100]\n",
    "y_test=y[3000:3100]\n"
   ]
  },
  {
   "cell_type": "code",
   "execution_count": 4,
   "id": "removable-nepal",
   "metadata": {},
   "outputs": [
    {
     "name": "stdout",
     "output_type": "stream",
     "text": [
      "Epoch 1/20\n"
     ]
    },
    {
     "name": "stderr",
     "output_type": "stream",
     "text": [
      "/home/orglobal/.local/lib/python3.9/site-packages/keras/optimizer_v2/adam.py:105: UserWarning: The `lr` argument is deprecated, use `learning_rate` instead.\n",
      "  super(Adam, self).__init__(name, **kwargs)\n"
     ]
    },
    {
     "name": "stdout",
     "output_type": "stream",
     "text": [
      "94/94 [==============================] - 0s 1ms/step - loss: 1.2188 - mae: 1.2188\n",
      "Epoch 2/20\n",
      "94/94 [==============================] - 0s 1ms/step - loss: 0.0552 - mae: 0.0552\n",
      "Epoch 3/20\n",
      "94/94 [==============================] - 0s 1ms/step - loss: 0.0456 - mae: 0.0456\n",
      "Epoch 4/20\n",
      "94/94 [==============================] - 0s 1ms/step - loss: 0.0385 - mae: 0.0385\n",
      "Epoch 5/20\n",
      "94/94 [==============================] - 0s 1ms/step - loss: 0.0296 - mae: 0.0296\n",
      "Epoch 6/20\n",
      "94/94 [==============================] - 0s 1ms/step - loss: 0.0182 - mae: 0.0182\n",
      "Epoch 7/20\n",
      "94/94 [==============================] - 0s 1ms/step - loss: 0.0110 - mae: 0.0110\n",
      "Epoch 8/20\n",
      "94/94 [==============================] - 0s 1ms/step - loss: 0.0057 - mae: 0.0057\n",
      "Epoch 9/20\n",
      "94/94 [==============================] - 0s 1ms/step - loss: 0.0052 - mae: 0.0052\n",
      "Epoch 10/20\n",
      "94/94 [==============================] - 0s 1ms/step - loss: 0.0047 - mae: 0.0047\n",
      "Epoch 11/20\n",
      "94/94 [==============================] - 0s 1ms/step - loss: 0.0041 - mae: 0.0041\n",
      "Epoch 12/20\n",
      "94/94 [==============================] - 0s 1ms/step - loss: 0.0056 - mae: 0.0056\n",
      "Epoch 13/20\n",
      "94/94 [==============================] - 0s 1ms/step - loss: 0.0048 - mae: 0.0048\n",
      "Epoch 14/20\n",
      "94/94 [==============================] - 0s 1ms/step - loss: 0.0034 - mae: 0.0034\n",
      "Epoch 15/20\n",
      "94/94 [==============================] - 0s 1ms/step - loss: 0.0043 - mae: 0.0043\n",
      "Epoch 16/20\n",
      "94/94 [==============================] - 0s 1ms/step - loss: 0.0052 - mae: 0.0052\n",
      "Epoch 17/20\n",
      "94/94 [==============================] - 0s 1ms/step - loss: 0.0035 - mae: 0.0035\n",
      "Epoch 18/20\n",
      "94/94 [==============================] - 0s 1ms/step - loss: 0.0071 - mae: 0.0071\n",
      "Epoch 19/20\n",
      "94/94 [==============================] - 0s 1ms/step - loss: 0.0051 - mae: 0.0051\n",
      "Epoch 20/20\n",
      "94/94 [==============================] - 0s 1ms/step - loss: 0.0056 - mae: 0.0056\n"
     ]
    },
    {
     "data": {
      "text/plain": [
       "<keras.callbacks.History at 0x7f7dc3ecfbb0>"
      ]
     },
     "execution_count": 4,
     "metadata": {},
     "output_type": "execute_result"
    }
   ],
   "source": [
    "# tf.random.set_seed(42)\n",
    "\n",
    "model=tf.keras.Sequential([\n",
    "    tf.keras.layers.Dense(4,activation='relu'),\n",
    "    tf.keras.layers.Dense(1)])\n",
    "\n",
    "model.compile(loss='mae',\n",
    "              optimizer=tf.keras.optimizers.Adam(lr=0.01),\n",
    "             metrics=['mae'])\n",
    "\n",
    "model.fit(X_train,y_train, epochs=20)"
   ]
  },
  {
   "cell_type": "code",
   "execution_count": 5,
   "id": "fancy-spokesman",
   "metadata": {},
   "outputs": [],
   "source": [
    "y_pred=model.predict(X_test)\n",
    "# y_pred, y_test"
   ]
  },
  {
   "cell_type": "code",
   "execution_count": 6,
   "id": "increased-marketplace",
   "metadata": {},
   "outputs": [
    {
     "data": {
      "text/plain": [
       "<matplotlib.legend.Legend at 0x7f7dc3e57820>"
      ]
     },
     "execution_count": 6,
     "metadata": {},
     "output_type": "execute_result"
    },
    {
     "data": {
      "image/png": "[encoded data removed]",
      "text/plain": [
       "<Figure size 720x504 with 1 Axes>"
      ]
     },
     "metadata": {
      "needs_background": "light"
     },
     "output_type": "display_data"
    }
   ],
   "source": [
    "plt.figure(figsize=(10,7))\n",
    "plt.plot(df['Time'][3000:3100],y_pred,c='b', label='prediction')\n",
    "plt.plot(df['Time'][3000:3100],y_test,c='r', label='data') \n",
    "plt.legend()"
   ]
  },
  {
   "cell_type": "code",
   "execution_count": null,
   "id": "aboriginal-copying",
   "metadata": {},
   "outputs": [],
   "source": []
  }
 ],
 "metadata": {
  "kernelspec": {
   "display_name": "Python 3 (ipykernel)",
   "language": "python",
   "name": "python3"
  },
  "language_info": {
   "codemirror_mode": {
    "name": "ipython",
    "version": 3
   },
   "file_extension": ".py",
   "mimetype": "text/x-python",
   "name": "python",
   "nbconvert_exporter": "python",
   "pygments_lexer": "ipython3",
   "version": "3.9.2"
  }
 },
 "nbformat": 4,
 "nbformat_minor": 5
}
